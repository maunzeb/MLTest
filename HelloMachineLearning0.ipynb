{
  "nbformat": 4,
  "nbformat_minor": 0,
  "metadata": {
    "colab": {
      "name": "HelloMachineLearning0.ipynb",
      "provenance": [],
      "authorship_tag": "ABX9TyPctirjoKRcHYWdGYGtb0de",
      "include_colab_link": true
    },
    "kernelspec": {
      "name": "python3",
      "display_name": "Python 3"
    },
    "language_info": {
      "name": "python"
    }
  },
  "cells": [
    {
      "cell_type": "markdown",
      "metadata": {
        "id": "view-in-github",
        "colab_type": "text"
      },
      "source": [
        "<a href=\"https://colab.research.google.com/github/maunzeb/MLTest/blob/main/HelloMachineLearning0.ipynb\" target=\"_parent\"><img src=\"https://colab.research.google.com/assets/colab-badge.svg\" alt=\"Open In Colab\"/></a>"
      ]
    },
    {
      "cell_type": "code",
      "execution_count": 4,
      "metadata": {
        "colab": {
          "base_uri": "https://localhost:8080/"
        },
        "id": "XmmU3m1JT1Iu",
        "outputId": "540159b9-2f51-4862-f375-ee8d169ffbc2"
      },
      "outputs": [
        {
          "output_type": "stream",
          "name": "stdout",
          "text": [
            "Downloading data from https://storage.googleapis.com/tensorflow/tf-keras-datasets/mnist.npz\n",
            "11493376/11490434 [==============================] - 0s 0us/step\n",
            "11501568/11490434 [==============================] - 0s 0us/step\n"
          ]
        }
      ],
      "source": [
        "# import the necessary packages\n",
        "import tensorflow as tf\n",
        "import numpy as np\n",
        "import keras as ks\n",
        "import pandas as pd\n",
        "\n",
        "# import image dataset\n",
        "# train_images and train_labels from the training set (data that the model will learn from)\n",
        "# the model will then be tested in the test set test_images and test_labels\n",
        "from tensorflow.keras.datasets import mnist\n",
        "(train_images, train_labels), (test_images, test_labels) = mnist.load_data()"
      ]
    },
    {
      "cell_type": "code",
      "source": [
        "# lets look at the training data\n",
        "from tensorflow.python import train\n",
        "train_images.shape\n",
        "len(train_labels)\n",
        "train_labels \n",
        "\n"
      ],
      "metadata": {
        "colab": {
          "base_uri": "https://localhost:8080/"
        },
        "id": "eZDfeGy8WKP0",
        "outputId": "6f605428-111f-403d-a89f-aae4e6bdd067"
      },
      "execution_count": 12,
      "outputs": [
        {
          "output_type": "execute_result",
          "data": {
            "text/plain": [
              "array([5, 0, 4, ..., 5, 6, 8], dtype=uint8)"
            ]
          },
          "metadata": {},
          "execution_count": 12
        }
      ]
    },
    {
      "cell_type": "code",
      "source": [
        "# lets look at the test data\n",
        "test_images.shape\n",
        "len(test_labels)\n",
        "test_labels"
      ],
      "metadata": {
        "colab": {
          "base_uri": "https://localhost:8080/"
        },
        "id": "2YlNzaehXhXh",
        "outputId": "3d62aa23-dd56-4f9c-9736-bffaf94a8fe1"
      },
      "execution_count": 13,
      "outputs": [
        {
          "output_type": "execute_result",
          "data": {
            "text/plain": [
              "array([7, 2, 1, ..., 4, 5, 6], dtype=uint8)"
            ]
          },
          "metadata": {},
          "execution_count": 13
        }
      ]
    },
    {
      "cell_type": "code",
      "source": [
        "# the workflow: feed the neural network with training data, train_images and train_labels\n",
        "# the network will then learn to associate images and labels\n",
        "# finally, we'll ask the network to produce predictions for test_images\n",
        "# we'll then verify whether these predictions match the labels from test_labes"
      ],
      "metadata": {
        "id": "hxUeBBruX-jQ"
      },
      "execution_count": null,
      "outputs": []
    },
    {
      "cell_type": "code",
      "source": [
        "# Building the network again from the begining\n",
        "\n",
        "from tensorflow import keras\n",
        "from tensorflow.keras import layers\n",
        "model = keras.Sequential([\n",
        "      layers.Dense(512, activation=\"relu\"),\n",
        "      layers.Dense(10, activation=\"softmax\")\n",
        "])\n",
        "\n",
        "# the core building block of neural networks is the layer (a filter for data)\n",
        "# some data goes in and it comes out in a more useful form\n",
        "# specifically, layers extract representations out of the data fed into them\n",
        "# hopefully, the representations are more meaningful for the problem at hand\n",
        "# most of deep learning consist of chaining together simple layers that will \n",
        "# implement a form of progressive data distillation\n",
        "# in this example, our model consist of a sequence of two Dense layers which are\n",
        "# densely conected (also called fully connected) neural layers\n",
        "# the second (and last layer) is a 10-way softmax classification layer\n",
        "# this means it will return an array of 10 probability scores summing to 1\n",
        "# each score will be the probability that the current digit image belongs to\n",
        "# one of our 10 digits\n",
        "\n",
        "# to make the model ready for training, we need to pick three more things\n",
        "# as part of the compilation step\n",
        "\n",
        "# an optimizer -- the mechanism the model will update itself based on training\n",
        "# data it sees, so as to improve its performance\n",
        "\n",
        "# A loss function -- how the model will measure its performance on training data\n",
        "# allowing it to steer itself in the right direction\n",
        "\n",
        "# Metrics to monitor during training and testing\n",
        "# here we'll only care about accuracy (fraction of images correctly classified)\n",
        "\n",
        "\n"
      ],
      "metadata": {
        "id": "8wBrkhpJYjTR"
      },
      "execution_count": 14,
      "outputs": []
    },
    {
      "cell_type": "code",
      "source": [
        "from tensorflow.python.training import optimizer\n",
        "# The compilation step\n",
        "model.compile(optimizer=\"rmsprop\", \n",
        "              loss=\"sparse_categorical_crossentropy\",\n",
        "              metrics=[\"accuracy\"])"
      ],
      "metadata": {
        "id": "3nLBF6uab0G7"
      },
      "execution_count": 15,
      "outputs": []
    },
    {
      "cell_type": "markdown",
      "source": [
        "Before training the data we will preprocess the data by reshaping it into the shape the model expects and scaling it so that all values are in the [0, 1] interval."
      ],
      "metadata": {
        "id": "tRoOgJ79cZg-"
      }
    },
    {
      "cell_type": "code",
      "source": [
        "# Preparing the image data\n",
        "train_images = train_images.reshape((60000, 28*28))\n",
        "train_images = train_images.astype(\"float32\")/255\n",
        "test_images = test_images.reshape((10000, 28*28))\n",
        "test_images = test_images.astype(\"float32\")/255\n",
        "\n",
        "# We are now ready to train the model, which in keras is done via a call to the \n",
        "# model's fit() method -- we fit the model to it's training data"
      ],
      "metadata": {
        "id": "Vwk-1HNYc7S5"
      },
      "execution_count": 16,
      "outputs": []
    },
    {
      "cell_type": "code",
      "source": [
        "# Fitting the model\n",
        "model.fit(train_images, train_labels, epochs=5, batch_size=128)\n"
      ],
      "metadata": {
        "colab": {
          "base_uri": "https://localhost:8080/"
        },
        "id": "_L2tuboHd11q",
        "outputId": "38c4624e-b175-4ec2-fe7b-4d0a1ad11c48"
      },
      "execution_count": 17,
      "outputs": [
        {
          "output_type": "stream",
          "name": "stdout",
          "text": [
            "Epoch 1/5\n",
            "469/469 [==============================] - 4s 8ms/step - loss: 0.2540 - accuracy: 0.9273\n",
            "Epoch 2/5\n",
            "469/469 [==============================] - 4s 8ms/step - loss: 0.1036 - accuracy: 0.9694\n",
            "Epoch 3/5\n",
            "469/469 [==============================] - 4s 8ms/step - loss: 0.0692 - accuracy: 0.9793\n",
            "Epoch 4/5\n",
            "469/469 [==============================] - 4s 8ms/step - loss: 0.0497 - accuracy: 0.9849\n",
            "Epoch 5/5\n",
            "469/469 [==============================] - 4s 8ms/step - loss: 0.0371 - accuracy: 0.9892\n"
          ]
        },
        {
          "output_type": "execute_result",
          "data": {
            "text/plain": [
              "<keras.callbacks.History at 0x7f5327047510>"
            ]
          },
          "metadata": {},
          "execution_count": 17
        }
      ]
    },
    {
      "cell_type": "markdown",
      "source": [
        "Two quantities are displayed during training: the loss of the model over the training data, and the accuracy of the model over the training data. we reached a 98.9% accuracy\n",
        "\n",
        "Now that we have trained the model, we can use it to predict class probabilities for new digits -- imgaes that werent part of the training data, like those from the test set"
      ],
      "metadata": {
        "id": "A5FM24Xdecj_"
      }
    },
    {
      "cell_type": "code",
      "source": [
        "# Using the Model to make predictions\n",
        "\n",
        "test_digits = test_images[0:10]\n",
        "predictions = model.predict(test_digits)\n",
        "predictions[0]\n",
        "\n",
        "# result below, each number of the index i in the array corresponds to the probability that digit image test_digits[0]\n",
        "# belongs to class i. The first test digit has the highest probability score (0.99999106, almost 1) at index 7\n",
        "# so according to our model, it must be a 7:\n",
        "\n",
        "predictions[0].argmax()\n",
        "predictions[0][7]\n",
        "\n",
        "# we can check that the test label agrees:\n",
        "\n",
        "test_labels[0]\n"
      ],
      "metadata": {
        "colab": {
          "base_uri": "https://localhost:8080/"
        },
        "id": "3yC-pEv4fMxq",
        "outputId": "5b8fc929-5103-4ca2-c2b9-a3a271e7d188"
      },
      "execution_count": 21,
      "outputs": [
        {
          "output_type": "execute_result",
          "data": {
            "text/plain": [
              "7"
            ]
          },
          "metadata": {},
          "execution_count": 21
        }
      ]
    },
    {
      "cell_type": "markdown",
      "source": [
        "On average, how good is our model at classifying such never-before-seen digits? Let's check by computing average accuracy over the entire data set."
      ],
      "metadata": {
        "id": "v2_yPyhkhSjN"
      }
    },
    {
      "cell_type": "code",
      "source": [
        "# Evaluating tje model on new data\n",
        "test_loss, test_acc = model.evaluate(test_images, test_labels)\n",
        "print(f\"test_acc: {test_acc}\")\n"
      ],
      "metadata": {
        "colab": {
          "base_uri": "https://localhost:8080/"
        },
        "id": "Uls_RSuahjr1",
        "outputId": "46d07d86-6614-4392-abba-d93937e0d053"
      },
      "execution_count": 22,
      "outputs": [
        {
          "output_type": "stream",
          "name": "stdout",
          "text": [
            "313/313 [==============================] - 1s 2ms/step - loss: 0.0637 - accuracy: 0.9812\n",
            "test_acc: 0.9811999797821045\n"
          ]
        }
      ]
    },
    {
      "cell_type": "markdown",
      "source": [
        "The test accuracy is 98% and lower than the training accuracy of 99%. This gap between training and testing accuracy is an example of overfitting: the fact that learning models tend to perform worse on a new data than on training data."
      ],
      "metadata": {
        "id": "jCBEhOi7iTJ5"
      }
    }
  ]
}